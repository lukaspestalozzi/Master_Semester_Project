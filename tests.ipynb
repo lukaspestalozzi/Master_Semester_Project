{
 "cells": [
  {
   "cell_type": "code",
   "execution_count": 10,
   "metadata": {
    "collapsed": false
   },
   "outputs": [],
   "source": [
    "import gym\n",
    "import importlib\n",
    "import gym_tichu.envs.internals as new\n",
    "from gym_tichu.envs.internals import CardSet\n",
    "import game.tichu.cards as old\n",
    "from game.tichu.cards import ImmutableCards\n",
    "import random\n",
    "import itertools"
   ]
  },
  {
   "cell_type": "code",
   "execution_count": 65,
   "metadata": {
    "collapsed": false
   },
   "outputs": [],
   "source": [
    "def outer():\n",
    "    print(\"outer\")\n",
    "\n",
    "class A(object):\n",
    "    \n",
    "    def __init__(self):\n",
    "        self.myouter = outer\n",
    "    \n",
    "    def a():\n",
    "        print(\"A.a\")\n",
    "    "
   ]
  },
  {
   "cell_type": "code",
   "execution_count": 66,
   "metadata": {
    "collapsed": false
   },
   "outputs": [
    {
     "name": "stdout",
     "output_type": "stream",
     "text": [
      "outer\n"
     ]
    }
   ],
   "source": [
    "a = A()\n",
    "a.myouter()"
   ]
  },
  {
   "cell_type": "code",
   "execution_count": null,
   "metadata": {
    "collapsed": true
   },
   "outputs": [],
   "source": []
  },
  {
   "cell_type": "code",
   "execution_count": 43,
   "metadata": {
    "collapsed": true
   },
   "outputs": [],
   "source": [
    "s = set(range(10))\n",
    "l = list(s)\n",
    "n = 1000"
   ]
  },
  {
   "cell_type": "code",
   "execution_count": 44,
   "metadata": {
    "collapsed": false
   },
   "outputs": [
    {
     "name": "stdout",
     "output_type": "stream",
     "text": [
      "100 loops, best of 3: 2.52 ms per loop\n"
     ]
    }
   ],
   "source": [
    "%%timeit\n",
    "for _ in range(n):\n",
    "    gen = iter(s)\n",
    "    for _ in range(random.randrange(0, len(s))):\n",
    "        next(gen)\n",
    "    next(gen)"
   ]
  },
  {
   "cell_type": "code",
   "execution_count": 45,
   "metadata": {
    "collapsed": false
   },
   "outputs": [
    {
     "name": "stdout",
     "output_type": "stream",
     "text": [
      "10000 loops, best of 3: 191 µs per loop\n"
     ]
    }
   ],
   "source": [
    "%%timeit\n",
    "for _ in range(n):\n",
    "    next(iter(s))"
   ]
  },
  {
   "cell_type": "code",
   "execution_count": 49,
   "metadata": {
    "collapsed": false
   },
   "outputs": [
    {
     "name": "stdout",
     "output_type": "stream",
     "text": [
      "100 loops, best of 3: 1.67 ms per loop\n"
     ]
    }
   ],
   "source": [
    "%%timeit\n",
    "for _ in range(n):\n",
    "    next(itertools.islice(s, random.randrange(0, len(s)), None))"
   ]
  },
  {
   "cell_type": "code",
   "execution_count": 50,
   "metadata": {
    "collapsed": false
   },
   "outputs": [
    {
     "name": "stdout",
     "output_type": "stream",
     "text": [
      "1000 loops, best of 3: 1.26 ms per loop\n"
     ]
    }
   ],
   "source": [
    "%%timeit\n",
    "for _ in range(n):\n",
    "    random.choice(list(s))"
   ]
  },
  {
   "cell_type": "code",
   "execution_count": 51,
   "metadata": {
    "collapsed": false
   },
   "outputs": [
    {
     "name": "stdout",
     "output_type": "stream",
     "text": [
      "1000 loops, best of 3: 891 µs per loop\n"
     ]
    }
   ],
   "source": [
    "%%timeit\n",
    "for _ in range(n):\n",
    "    random.choice(l)"
   ]
  },
  {
   "cell_type": "code",
   "execution_count": 52,
   "metadata": {
    "collapsed": true
   },
   "outputs": [],
   "source": [
    "s = set(range(1000))\n",
    "l = list(s)"
   ]
  },
  {
   "cell_type": "code",
   "execution_count": 57,
   "metadata": {
    "collapsed": false
   },
   "outputs": [
    {
     "name": "stdout",
     "output_type": "stream",
     "text": [
      "10 loops, best of 3: 38.2 ms per loop\n"
     ]
    }
   ],
   "source": [
    "%%timeit\n",
    "for _ in range(n):\n",
    "    s = set(range(1000))\n",
    "    set(l)"
   ]
  },
  {
   "cell_type": "code",
   "execution_count": 58,
   "metadata": {
    "collapsed": false
   },
   "outputs": [
    {
     "name": "stdout",
     "output_type": "stream",
     "text": [
      "10 loops, best of 3: 21.1 ms per loop\n"
     ]
    }
   ],
   "source": [
    "%%timeit\n",
    "for _ in range(n):\n",
    "    l = list(range(1000))\n",
    "    list(s)"
   ]
  },
  {
   "cell_type": "code",
   "execution_count": null,
   "metadata": {
    "collapsed": true
   },
   "outputs": [],
   "source": []
  },
  {
   "cell_type": "code",
   "execution_count": null,
   "metadata": {
    "collapsed": true
   },
   "outputs": [],
   "source": []
  },
  {
   "cell_type": "code",
   "execution_count": 2,
   "metadata": {
    "collapsed": false
   },
   "outputs": [],
   "source": [
    "\n",
    "def old_card_from_new(newc):\n",
    "    n = newc.name\n",
    "    oldc = next(c for c in old.Card if c.name == n)\n",
    "    return oldc\n",
    "\n",
    "def create_new_piles(phoenix=False):\n",
    "    deck_new = new.Deck(full=True)\n",
    "    _new = deck_new.split(random_=True)[0][:10]\n",
    "    _old = [old_card_from_new(c) for c in _new]\n",
    "    if phoenix and new.Card.PHOENIX not in _new:\n",
    "        _new.append(new.Card.PHOENIX)\n",
    "    if phoenix and old.Card.PHOENIX not in _old:\n",
    "        _old.append(old.Card.PHOENIX)\n",
    "    return sorted(_new), sorted(_old)\n"
   ]
  },
  {
   "cell_type": "markdown",
   "metadata": {},
   "source": [
    "# Possible Combinations of cards"
   ]
  },
  {
   "cell_type": "code",
   "execution_count": 3,
   "metadata": {
    "collapsed": true
   },
   "outputs": [],
   "source": [
    "def filter_duplicates(combs):\n",
    "    d = dict()\n",
    "    filtered = list()\n",
    "    for comb in combs:\n",
    "        try:\n",
    "            t = (comb.__class__, len(comb), comb.height, tuple([c.value[0] for c in comb]), comb.phoenix_as)\n",
    "        except AttributeError:\n",
    "            t = (comb.__class__, len(comb), tuple([c.value[0] for c in comb]), comb.height)\n",
    "        if t in d:\n",
    "            filtered.append(d[t])\n",
    "        d[t] = comb\n",
    "    return list(d.values()), filtered\n",
    "\n",
    "def compare_length():\n",
    "    #print(\"compare len:\")\n",
    "    #print(\"create new piles...\")\n",
    "    pn, po = create_new_piles(phoenix=True)\n",
    "    #print(\"pile: \", pn)\n",
    "    #print(\"create cards...\")\n",
    "    old_cards = ImmutableCards(po)\n",
    "    new_cards = CardSet(pn)\n",
    "    #print(\"create combiantions...\")\n",
    "    combs_old, filtered_old = filter_duplicates(list(old_cards.all_combinations()))\n",
    "    combs_new, filtered_new = filter_duplicates(list(new_cards.possible_combinations()))\n",
    "    #print(\"...done\")\n",
    "    return len(combs_old), len(combs_new), old_cards, new_cards, filtered_old, filtered_new\n",
    "\n",
    "\n",
    "    "
   ]
  },
  {
   "cell_type": "code",
   "execution_count": 4,
   "metadata": {
    "collapsed": false,
    "scrolled": false
   },
   "outputs": [
    {
     "name": "stdout",
     "output_type": "stream",
     "text": [
      "tries: 52\n",
      "33 31\n",
      "\n",
      "____________________\n",
      "(PH, 2♥, 3★, 3♣, 3⚔, 6♥, 8★, 8♣, 8♥, 8⚔, J♣)\n",
      "[PH, 2♥, 3★, 3♣, 3⚔, 6♥, 8★, 8♣, 8♥, 8⚔, J♣]\n",
      "-----------Old: ----------\n",
      "SINGLE(8♥)\n",
      "SINGLE(J♣)\n",
      "SINGLE(6♥)\n",
      "SINGLE(2♥)\n",
      "SINGLE(PH)\n",
      "SINGLE(3★)\n",
      "SQUAREBOMB(8★,8♣,8♥,8⚔)\n",
      "PAIR(PH,8♥)\n",
      "PAIR(PH,J♣)\n",
      "PAIR(PH,6♥)\n",
      "PAIR(PH,2♥)\n",
      "PAIR(PH,3★)\n",
      "PAIR(8★,8♥)\n",
      "PAIR(8♣,8⚔)\n",
      "PAIR(3★,3♣)\n",
      "TRIO(PH,8★,8♥)\n",
      "TRIO(PH,3★,3♣)\n",
      "TRIO(8★,8♣,8♥)\n",
      "TRIO(3★,3♣,3⚔)\n",
      "FULLHOUSE(<8♥,8★,PH><8⚔,8♣>)\n",
      "FULLHOUSE(<8♥,8★,PH><3★,3♣>)\n",
      "FULLHOUSE(<PH,3★,3♣><8♥,8★>)\n",
      "FULLHOUSE(<PH,3★,3♣><8⚔,8♣>)\n",
      "FULLHOUSE(<8♥,8★,8♣><J♣,PH>)\n",
      "FULLHOUSE(<8♥,8★,8♣><6♥,PH>)\n",
      "FULLHOUSE(<8♥,8★,8♣><PH,2♥>)\n",
      "FULLHOUSE(<8♥,8★,8♣><3★,PH>)\n",
      "FULLHOUSE(<8♥,8★,8♣><3★,3♣>)\n",
      "FULLHOUSE(<3★,3♣,3⚔><8♥,PH>)\n",
      "FULLHOUSE(<3★,3♣,3⚔><J♣,PH>)\n",
      "FULLHOUSE(<3★,3♣,3⚔><6♥,PH>)\n",
      "FULLHOUSE(<3★,3♣,3⚔><PH,2♥>)\n",
      "FULLHOUSE(<3★,3♣,3⚔><8♥,8★>)\n",
      "FULLHOUSE(<3★,3♣,3⚔><8⚔,8♣>)\n",
      "PAIRSTEPS(PH2♥, 3★3♣)\n",
      "\n",
      "-----------New: ----------\n",
      "SINGLE(8♥)\n",
      "SINGLE(J♣)\n",
      "SINGLE(6♥)\n",
      "SINGLE(2♥)\n",
      "SINGLE(PH)\n",
      "SINGLE(3★)\n",
      "SQUAREBOMB(8★,8♣,8♥,8⚔)\n",
      "PAIR(PH,8♥)\n",
      "PAIR(PH,J♣)\n",
      "PAIR(PH,6♥)\n",
      "PAIR(PH,2♥)\n",
      "PAIR(PH,3★)\n",
      "PAIR(8★,8♥)\n",
      "PAIR(3★,3♣)\n",
      "TRIO(PH,8★,8♥)\n",
      "TRIO(8★,8♣,8♥)\n",
      "TRIO(PH,3★,3♣)\n",
      "TRIO(3★,3♣,3⚔)\n",
      "FULLHOUSE(<8♥,8★,PH><3★,3♣>)\n",
      "FULLHOUSE(<8♥,8★,8♣><J♣,PH>)\n",
      "FULLHOUSE(<8♥,8★,8♣><6♥,PH>)\n",
      "FULLHOUSE(<8♥,8★,8♣><PH,2♥>)\n",
      "FULLHOUSE(<8♥,8★,8♣><3★,PH>)\n",
      "FULLHOUSE(<8♥,8★,8♣><3★,3♣>)\n",
      "FULLHOUSE(<PH,3★,3♣><8♥,8★>)\n",
      "FULLHOUSE(<3★,3♣,3⚔><8♥,PH>)\n",
      "FULLHOUSE(<3★,3♣,3⚔><J♣,PH>)\n",
      "FULLHOUSE(<3★,3♣,3⚔><6♥,PH>)\n",
      "FULLHOUSE(<3★,3♣,3⚔><PH,2♥>)\n",
      "FULLHOUSE(<3★,3♣,3⚔><8♥,8★>)\n",
      "PAIRSTEPS(PH2♥, 3★3♣)\n"
     ]
    }
   ],
   "source": [
    "lo = 0\n",
    "ln = 0\n",
    "tries = 1\n",
    "while lo == ln:\n",
    "    lo, ln, old_cards, new_cards, filtered_old, filtered_new = compare_length()\n",
    "    #print(\"filtered_old:\", '\\n'.join(map(str, filtered_old)))\n",
    "    #print(\"\\nfiltered_new:\", '\\n'.join(map(str, filtered_new)))\n",
    "    tries += 1\n",
    "\n",
    "print('tries:', tries)\n",
    "print(lo, ln)\n",
    "print()\n",
    "print(\"____________________\")\n",
    "print(old_cards)\n",
    "print(sorted(new_cards))\n",
    "print(\"-----------Old: ----------\")\n",
    "for combo in old_cards.all_combinations():\n",
    "    print(combo)\n",
    "print()\n",
    "print(\"-----------New: ----------\")\n",
    "for combn in new_cards.possible_combinations():\n",
    "    print(combn) "
   ]
  },
  {
   "cell_type": "code",
   "execution_count": null,
   "metadata": {
    "collapsed": true
   },
   "outputs": [],
   "source": []
  },
  {
   "cell_type": "code",
   "execution_count": 11,
   "metadata": {
    "collapsed": true
   },
   "outputs": [],
   "source": [
    "l = list(range(14))"
   ]
  },
  {
   "cell_type": "code",
   "execution_count": 14,
   "metadata": {
    "collapsed": false
   },
   "outputs": [
    {
     "name": "stdout",
     "output_type": "stream",
     "text": [
      "The slowest run took 4.99 times longer than the fastest. This could mean that an intermediate result is being cached.\n",
      "100000 loops, best of 3: 3.39 µs per loop\n"
     ]
    }
   ],
   "source": [
    "%%timeit\n",
    "[str(i) for i in range(14)]"
   ]
  },
  {
   "cell_type": "code",
   "execution_count": 15,
   "metadata": {
    "collapsed": false
   },
   "outputs": [
    {
     "name": "stdout",
     "output_type": "stream",
     "text": [
      "100000 loops, best of 3: 2.87 µs per loop\n"
     ]
    }
   ],
   "source": [
    "%%timeit\n",
    "list(map(str, range(14)))"
   ]
  },
  {
   "cell_type": "code",
   "execution_count": null,
   "metadata": {
    "collapsed": true
   },
   "outputs": [],
   "source": []
  },
  {
   "cell_type": "code",
   "execution_count": null,
   "metadata": {
    "collapsed": true
   },
   "outputs": [],
   "source": []
  }
 ],
 "metadata": {
  "kernelspec": {
   "display_name": "Python 3",
   "language": "python",
   "name": "python3"
  },
  "language_info": {
   "codemirror_mode": {
    "name": "ipython",
    "version": 3
   },
   "file_extension": ".py",
   "mimetype": "text/x-python",
   "name": "python",
   "nbconvert_exporter": "python",
   "pygments_lexer": "ipython3",
   "version": "3.6.1"
  }
 },
 "nbformat": 4,
 "nbformat_minor": 0
}
