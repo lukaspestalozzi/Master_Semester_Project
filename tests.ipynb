{
 "cells": [
  {
   "cell_type": "code",
   "execution_count": 5,
   "metadata": {
    "collapsed": true
   },
   "outputs": [],
   "source": [
    "from enum import Enum"
   ]
  },
  {
   "cell_type": "code",
   "execution_count": 6,
   "metadata": {
    "collapsed": false
   },
   "outputs": [],
   "source": [
    "class E(Enum):\n",
    "    A = 1\n",
    "    B = 2\n",
    "    C = 3"
   ]
  },
  {
   "cell_type": "code",
   "execution_count": 12,
   "metadata": {
    "collapsed": false
   },
   "outputs": [
    {
     "data": {
      "text/plain": [
       "True"
      ]
     },
     "execution_count": 12,
     "metadata": {},
     "output_type": "execute_result"
    }
   ],
   "source": [
    "E.A.value == E.B.value -1"
   ]
  },
  {
   "cell_type": "code",
   "execution_count": 20,
   "metadata": {
    "collapsed": true
   },
   "outputs": [],
   "source": [
    "class C(object):\n",
    "    \n",
    "    def f(self):\n",
    "        print(self.abc)"
   ]
  },
  {
   "cell_type": "code",
   "execution_count": 21,
   "metadata": {
    "collapsed": false
   },
   "outputs": [
    {
     "ename": "AttributeError",
     "evalue": "'C' object has no attribute 'abc'",
     "output_type": "error",
     "traceback": [
      "\u001b[0;31m---------------------------------------------------------------------------\u001b[0m",
      "\u001b[0;31mAttributeError\u001b[0m                            Traceback (most recent call last)",
      "\u001b[0;32m<ipython-input-21-9bea0c3d60b5>\u001b[0m in \u001b[0;36m<module>\u001b[0;34m()\u001b[0m\n\u001b[1;32m      1\u001b[0m \u001b[0mc\u001b[0m \u001b[0;34m=\u001b[0m \u001b[0mC\u001b[0m\u001b[0;34m(\u001b[0m\u001b[0;34m)\u001b[0m\u001b[0;34m\u001b[0m\u001b[0m\n\u001b[0;32m----> 2\u001b[0;31m \u001b[0mc\u001b[0m\u001b[0;34m.\u001b[0m\u001b[0mf\u001b[0m\u001b[0;34m(\u001b[0m\u001b[0;34m)\u001b[0m\u001b[0;34m\u001b[0m\u001b[0m\n\u001b[0m",
      "\u001b[0;32m<ipython-input-20-cf9ed0e21a8f>\u001b[0m in \u001b[0;36mf\u001b[0;34m(self)\u001b[0m\n\u001b[1;32m      2\u001b[0m \u001b[0;34m\u001b[0m\u001b[0m\n\u001b[1;32m      3\u001b[0m     \u001b[0;32mdef\u001b[0m \u001b[0mf\u001b[0m\u001b[0;34m(\u001b[0m\u001b[0mself\u001b[0m\u001b[0;34m)\u001b[0m\u001b[0;34m:\u001b[0m\u001b[0;34m\u001b[0m\u001b[0m\n\u001b[0;32m----> 4\u001b[0;31m         \u001b[0mprint\u001b[0m\u001b[0;34m(\u001b[0m\u001b[0mself\u001b[0m\u001b[0;34m.\u001b[0m\u001b[0mabc\u001b[0m\u001b[0;34m)\u001b[0m\u001b[0;34m\u001b[0m\u001b[0m\n\u001b[0m",
      "\u001b[0;31mAttributeError\u001b[0m: 'C' object has no attribute 'abc'"
     ]
    }
   ],
   "source": [
    "c = C()\n",
    "c.f()"
   ]
  },
  {
   "cell_type": "code",
   "execution_count": null,
   "metadata": {
    "collapsed": true
   },
   "outputs": [],
   "source": []
  },
  {
   "cell_type": "code",
   "execution_count": 4,
   "metadata": {
    "collapsed": true
   },
   "outputs": [],
   "source": [
    "from collections import namedtuple, Set, Collection\n",
    "Point = namedtuple('Point', ['x', 'y'])\n",
    "class FancyPoint(Point):\n",
    "    def __new__(cls, x, y):\n",
    "        print(\"FancyPoint NEW with x:{}, y:{}\".format(x, y))\n",
    "        return super().__new__(cls, x, y)\n",
    "    \n",
    "    def __init__(self, x, y):\n",
    "        print(\"fancyPoint INIT with x:{}, y:{}\".format(x, y))\n",
    "        super().__init__()\n",
    "        \n",
    "    def _make(self, *args, **kwargs):\n",
    "        print(\"MAKE with {}, {}\".format(args, kwargs))\n",
    "        return super()._make(*args, **kwargs)\n",
    "    \n",
    "    def _replace(self, *args, **kwargs):\n",
    "        print(\"REPLACE with {} {}\".format(args, kwargs))\n",
    "        return super()._replace(*args, **kwargs)\n",
    "    \n",
    "    def __str__(self):\n",
    "        return 'FancyPoint({}, {})'.format(self.x, self.y)"
   ]
  },
  {
   "cell_type": "code",
   "execution_count": 5,
   "metadata": {
    "collapsed": false
   },
   "outputs": [
    {
     "name": "stdout",
     "output_type": "stream",
     "text": [
      "FancyPoint NEW with x:1, y:2\n",
      "fancyPoint INIT with x:1, y:2\n"
     ]
    }
   ],
   "source": [
    "f = FancyPoint(1, 2)"
   ]
  },
  {
   "cell_type": "code",
   "execution_count": 6,
   "metadata": {
    "collapsed": false
   },
   "outputs": [
    {
     "data": {
      "text/plain": [
       "OrderedDict([('x', 1), ('y', 2)])"
      ]
     },
     "execution_count": 6,
     "metadata": {},
     "output_type": "execute_result"
    }
   ],
   "source": [
    "f._asdict()"
   ]
  },
  {
   "cell_type": "code",
   "execution_count": 7,
   "metadata": {
    "collapsed": false
   },
   "outputs": [
    {
     "name": "stdout",
     "output_type": "stream",
     "text": [
      "REPLACE with () {'x': 3, 'y': 3}\n",
      "MAKE with (<map object at 0x7f32300f3c50>,), {}\n"
     ]
    },
    {
     "data": {
      "text/plain": [
       "FancyPoint(x=3, y=3)"
      ]
     },
     "execution_count": 7,
     "metadata": {},
     "output_type": "execute_result"
    }
   ],
   "source": [
    "f._replace(x=3, y=3)"
   ]
  },
  {
   "cell_type": "code",
   "execution_count": 8,
   "metadata": {
    "collapsed": true
   },
   "outputs": [],
   "source": [
    "a = ()\n",
    "b = (1, 2, 3)\n",
    "nbr = 10000\n",
    "def f_try(l):\n",
    "    try:\n",
    "        return l[-1]\n",
    "    except IndexError:\n",
    "        return None\n",
    "def f_if(l):\n",
    "    return l[-1] if len(l) else None"
   ]
  },
  {
   "cell_type": "code",
   "execution_count": 14,
   "metadata": {
    "collapsed": false
   },
   "outputs": [],
   "source": [
    "mydict = {k: v for k, v in zip(range(1000), reversed(range(1000)))}"
   ]
  },
  {
   "cell_type": "code",
   "execution_count": 21,
   "metadata": {
    "collapsed": true
   },
   "outputs": [],
   "source": [
    "lists = [[a, b, 's'] for a, b in zip(range(1000), reversed(range(1000)))]"
   ]
  },
  {
   "cell_type": "code",
   "execution_count": 24,
   "metadata": {
    "collapsed": false
   },
   "outputs": [
    {
     "name": "stdout",
     "output_type": "stream",
     "text": [
      "The slowest run took 4.98 times longer than the fastest. This could mean that an intermediate result is being cached.\n",
      "10000 loops, best of 3: 130 µs per loop\n"
     ]
    }
   ],
   "source": [
    "%%timeit\n",
    "[l[:2] for l in lists]"
   ]
  },
  {
   "cell_type": "code",
   "execution_count": 25,
   "metadata": {
    "collapsed": false
   },
   "outputs": [
    {
     "name": "stdout",
     "output_type": "stream",
     "text": [
      "10000 loops, best of 3: 112 µs per loop\n"
     ]
    }
   ],
   "source": [
    "%%timeit\n",
    "[[l[0], l[1]] for l in lists]"
   ]
  },
  {
   "cell_type": "code",
   "execution_count": null,
   "metadata": {
    "collapsed": true
   },
   "outputs": [],
   "source": []
  },
  {
   "cell_type": "code",
   "execution_count": null,
   "metadata": {
    "collapsed": true
   },
   "outputs": [],
   "source": []
  }
 ],
 "metadata": {
  "kernelspec": {
   "display_name": "Python 3",
   "language": "python",
   "name": "python3"
  },
  "language_info": {
   "codemirror_mode": {
    "name": "ipython",
    "version": 3
   },
   "file_extension": ".py",
   "mimetype": "text/x-python",
   "name": "python",
   "nbconvert_exporter": "python",
   "pygments_lexer": "ipython3",
   "version": "3.6.1"
  }
 },
 "nbformat": 4,
 "nbformat_minor": 0
}
