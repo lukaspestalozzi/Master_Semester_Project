{
 "cells": [
  {
   "cell_type": "code",
   "execution_count": 1,
   "metadata": {
    "collapsed": false
   },
   "outputs": [],
   "source": [
    "import random\n",
    "import itertools\n",
    "import sys, os, glob\n",
    "import numpy as np\n",
    "from time import time\n",
    "import matplotlib.pyplot as plt\n",
    "%matplotlib inline\n",
    "plt.rcParams[\"figure.figsize\"] = (20,10)\n",
    "\n",
    "this_folder = '/'.join(os.getcwd().split('/')[:])\n",
    "tichu_folder = this_folder+'/Tichu-gym/'\n",
    "\n",
    "for p in [this_folder, tichu_folder]:  # Adds the parent folder (ie. game) to the python path\n",
    "    if p not in sys.path:\n",
    "        sys.path.append(p)"
   ]
  },
  {
   "cell_type": "markdown",
   "metadata": {},
   "source": [
    "# Played cards -> remaining cards"
   ]
  },
  {
   "cell_type": "code",
   "execution_count": 2,
   "metadata": {
    "collapsed": false
   },
   "outputs": [],
   "source": [
    "from scraper.tichumania_game_scraper import TichumaniaScraper, PlayedCards\n"
   ]
  },
  {
   "cell_type": "code",
   "execution_count": 3,
   "metadata": {
    "collapsed": true
   },
   "outputs": [],
   "source": [
    "def load_playedcards():\n",
    "    scraper = TichumaniaScraper()\n",
    "    # load from all files\n",
    "    playedcards = []\n",
    "    os.chdir(\"/mnt/Data/Dropbox/Studium/EPFL/MA4/sem_project/Tichu-gym/scraper/tichumania_scraper_out/\")\n",
    "    for file in glob.glob(\"*played_cards*.json\"):\n",
    "        print(file)\n",
    "        playedcards.extend([PlayedCards.from_dict(d) for d in scraper._load_from_file(file)])\n",
    "    return [pc.to_real_cards() for pc in playedcards]"
   ]
  },
  {
   "cell_type": "code",
   "execution_count": 4,
   "metadata": {
    "collapsed": false,
    "scrolled": true
   },
   "outputs": [
    {
     "name": "stdout",
     "output_type": "stream",
     "text": [
      "file '/mnt/Data/Dropbox/Studium/EPFL/MA4/sem_project/Tichu-gym/scraper/tichumania_scraper_out/.gamenumbers.json' did not exist, returning default: set()\n",
      "file '/mnt/Data/Dropbox/Studium/EPFL/MA4/sem_project/Tichu-gym/scraper/tichumania_scraper_out/.gameoverviews.json' did not exist, returning default: set()\n",
      "nbr scraped_gamenumbers:  0\n",
      "nbr scraped_gameoverviews:  0\n",
      "file '/mnt/Data/Dropbox/Studium/EPFL/MA4/sem_project/Tichu-gym/scraper/tichumania_scraper_out/.gamenumbers.json' did not exist, returning default: set()\n",
      "file '/mnt/Data/Dropbox/Studium/EPFL/MA4/sem_project/Tichu-gym/scraper/tichumania_scraper_out/.gameoverviews.json' did not exist, returning default: set()\n",
      "nbr scraped_gamenumbers:  0\n",
      "nbr scraped_gameoverviews:  0\n",
      "[]\n"
     ]
    }
   ],
   "source": [
    "scraper = TichumaniaScraper()\n",
    "# merge all played_cards files into the file 'played_cards.json'\n",
    "realpcs = load_playedcards()\n",
    "print(realpcs[:2])"
   ]
  },
  {
   "cell_type": "code",
   "execution_count": null,
   "metadata": {
    "collapsed": false,
    "scrolled": true
   },
   "outputs": [],
   "source": [
    "len(realpcs)"
   ]
  },
  {
   "cell_type": "code",
   "execution_count": null,
   "metadata": {
    "collapsed": false
   },
   "outputs": [],
   "source": [
    "# make data for handcards of len 2\n",
    "from gym_tichu.envs.internals import CardSet, CardRank\n",
    "def cards_to_binary_list(cards):\n",
    "    rank_dict = CardSet(cards).rank_dict()\n",
    "    return [len(rank_dict.get(rank, [])) for rank in CardRank]\n",
    "\n",
    "data = []\n",
    "for pc in realpcs:\n",
    "    for played, handcards in pc.iter_plays():\n",
    "        if len(handcards) == 2:\n",
    "            data.append((cards_to_binary_list(played), cards_to_binary_list(handcards)))\n",
    "random.shuffle(data)\n",
    "X_data = np.array([np.array(tup[0], dtype=np.int64) for tup in data])\n",
    "Y_data =  np.array([np.array(tup[1], dtype=np.int64) for tup in data])\n",
    "\n",
    "\n",
    "\n",
    "len_testdata = int(len(X_data)*0.8)\n",
    "\n",
    "X_train, Y_train = X_data[:len_testdata], Y_data[:len_testdata]\n",
    "X_test, Y_test = X_data[len_testdata:], Y_data[len_testdata:]\n"
   ]
  },
  {
   "cell_type": "code",
   "execution_count": null,
   "metadata": {
    "collapsed": false
   },
   "outputs": [],
   "source": [
    "X_train.shape"
   ]
  },
  {
   "cell_type": "code",
   "execution_count": null,
   "metadata": {
    "collapsed": false
   },
   "outputs": [],
   "source": [
    "Y_train.shape"
   ]
  },
  {
   "cell_type": "code",
   "execution_count": null,
   "metadata": {
    "collapsed": false
   },
   "outputs": [],
   "source": [
    "X_test.shape"
   ]
  },
  {
   "cell_type": "code",
   "execution_count": null,
   "metadata": {
    "collapsed": false
   },
   "outputs": [],
   "source": [
    "Y_test.shape"
   ]
  },
  {
   "cell_type": "code",
   "execution_count": null,
   "metadata": {
    "collapsed": false
   },
   "outputs": [],
   "source": [
    "from keras.models import Sequential\n",
    "from keras.layers import Dense, Activation\n",
    "from keras import backend as K\n",
    "import tensorflow as tf\n",
    "\n",
    "def true_mse(y_true, y_pred):\n",
    "    z = K.clip(y_true, 0, 1) * y_pred\n",
    "    return (y_true - z)**2    \n",
    "    \n",
    "\n",
    "model = Sequential([\n",
    "    Dense(56, input_dim=17, activation='elu'),\n",
    "    Dense(56, activation='elu'),\n",
    "    Dense(32, activation='linear'),\n",
    "    Dense(17, activation='linear'),\n",
    "])\n",
    "model.compile(optimizer='rmsprop', loss='mse', metrics=['mse', 'accuracy', true_mse])\n"
   ]
  },
  {
   "cell_type": "code",
   "execution_count": null,
   "metadata": {
    "collapsed": false,
    "scrolled": true
   },
   "outputs": [],
   "source": [
    "model.summary()"
   ]
  },
  {
   "cell_type": "code",
   "execution_count": null,
   "metadata": {
    "collapsed": false,
    "scrolled": false
   },
   "outputs": [],
   "source": [
    "# Train\n",
    "start_t = time()\n",
    "history = model.fit(X_train, Y_train,\n",
    "          batch_size=2**15, epochs=10000, verbose=0,\n",
    "          validation_data=(X_test, Y_test))\n",
    "end_t = time()\n",
    "end_t - start_t"
   ]
  },
  {
   "cell_type": "code",
   "execution_count": null,
   "metadata": {
    "collapsed": false
   },
   "outputs": [],
   "source": [
    "os.getcwd()"
   ]
  },
  {
   "cell_type": "code",
   "execution_count": null,
   "metadata": {
    "collapsed": false
   },
   "outputs": [],
   "source": [
    "filename = \"/mnt/Data/Dropbox/Studium/EPFL/MA4/sem_project/nn_training/model_{}.h5f\".format(time())\n",
    "with open(filename, 'w'):\n",
    "    pass # create the file\n",
    "model.save_weights(filename)"
   ]
  },
  {
   "cell_type": "code",
   "execution_count": null,
   "metadata": {
    "collapsed": false,
    "scrolled": false
   },
   "outputs": [],
   "source": [
    "# visualize history\n",
    "\n",
    "keys = history.history.keys()\n",
    "print(keys)\n",
    "for key, val_key in [('loss', 'val_loss'), ('mean_squared_error', 'val_mean_squared_error'), ('acc', 'val_acc'),\n",
    "                    ('true_mse', 'val_true_mse')]:\n",
    "    plt.plot(history.history[key])\n",
    "    plt.plot(history.history[val_key])\n",
    "    plt.title(str(key))\n",
    "    plt.ylabel(str(key))\n",
    "    plt.xlabel('epoch')\n",
    "    plt.legend(['train', 'test'], loc='upper left')\n",
    "    plt.show()\n"
   ]
  },
  {
   "cell_type": "code",
   "execution_count": null,
   "metadata": {
    "collapsed": false
   },
   "outputs": [],
   "source": [
    "X_test[:1].shape"
   ]
  },
  {
   "cell_type": "code",
   "execution_count": null,
   "metadata": {
    "collapsed": false
   },
   "outputs": [],
   "source": [
    "# try one example\n",
    "nbr_predictions = 100\n",
    "inpts = X_test[:nbr_predictions]\n",
    "reals = Y_test[:nbr_predictions]\n",
    "predictions = model.predict(inpts, verbose=2)"
   ]
  },
  {
   "cell_type": "code",
   "execution_count": null,
   "metadata": {
    "collapsed": false,
    "scrolled": true
   },
   "outputs": [],
   "source": [
    "k = 2\n",
    "for idx in range(len(predictions)):\n",
    "    pred = predictions[idx]\n",
    "    real = reals[idx]\n",
    "    print(\"real idx: \", pred.argsort()[-k:][::-1])\n",
    "    real_idxs = []\n",
    "    for i, v in enumerate(real):\n",
    "        real_idxs.extend([i]*v)\n",
    "    print(\"real idx: \", real_idxs)\n",
    "    print(\"pred: \", pred)\n",
    "    print(\"real: \", real)\n",
    "    print(\"==================\")\n",
    "\n",
    "    "
   ]
  },
  {
   "cell_type": "markdown",
   "metadata": {},
   "source": [
    "# Determine average nbr possible combination"
   ]
  },
  {
   "cell_type": "code",
   "execution_count": 1,
   "metadata": {
    "collapsed": true
   },
   "outputs": [],
   "source": [
    "from gym_tichu.envs.internals import Deck, CardSet"
   ]
  },
  {
   "cell_type": "code",
   "execution_count": 48,
   "metadata": {
    "collapsed": false
   },
   "outputs": [],
   "source": [
    "def rand_cards(len_=14):\n",
    "    deck = Deck(full=True)\n",
    "    pile, _, _, _ = deck.split(random_=True)\n",
    "    ret = CardSet(pile[:len_])\n",
    "    return ret"
   ]
  },
  {
   "cell_type": "code",
   "execution_count": 60,
   "metadata": {
    "collapsed": false
   },
   "outputs": [],
   "source": [
    "def nbr_possible_combinations(len_=14, nbr_datapoints=10000):\n",
    "    nbrs = [len(list(rand_cards(len_=len_).possible_combinations())) for _ in range(nbr_datapoints)]\n",
    "    print(\"mean: \", np.median(nbrs))\n",
    "    print(\"min: \", min(nbrs))\n",
    "    print(\"max: \", max(nbrs))\n",
    "    plt.title(\"Number possible combinations for cards of length {}\".format(len_))\n",
    "    plt.hist(nbrs, bins=nbr_datapoints//10)\n",
    "    plt.show()"
   ]
  },
  {
   "cell_type": "code",
   "execution_count": 68,
   "metadata": {
    "collapsed": false
   },
   "outputs": [
    {
     "name": "stdout",
     "output_type": "stream",
     "text": [
      "mean:  3.0\n",
      "min:  3\n",
      "max:  5\n"
     ]
    },
    {
     "data": {
      "image/png": "[encoded data removed]",
      "text/plain": [
       "<matplotlib.figure.Figure at 0x7f211e0effd0>"
      ]
     },
     "metadata": {},
     "output_type": "display_data"
    }
   ],
   "source": [
    "nbr_possible_combinations(len_=3)"
   ]
  },
  {
   "cell_type": "code",
   "execution_count": 64,
   "metadata": {
    "collapsed": false
   },
   "outputs": [
    {
     "data": {
      "text/plain": [
       "220"
      ]
     },
     "execution_count": 64,
     "metadata": {},
     "output_type": "execute_result"
    }
   ],
   "source": []
  },
  {
   "cell_type": "markdown",
   "metadata": {},
   "source": [
    "# Lambda"
   ]
  },
  {
   "cell_type": "code",
   "execution_count": null,
   "metadata": {
    "collapsed": true
   },
   "outputs": [],
   "source": [
    "class A(object):\n",
    "    def __init__(self):\n",
    "        self.elem = 'a'\n",
    "\n",
    "class B(object):\n",
    "    def __init__(self):\n",
    "        self.elem = 'b'"
   ]
  },
  {
   "cell_type": "code",
   "execution_count": null,
   "metadata": {
    "collapsed": false
   },
   "outputs": [],
   "source": [
    "a = A()\n",
    "b = B()\n",
    "l = lambda _: (a.elem, b.elem) \n",
    "a = A()\n",
    "a.elem='a2'\n",
    "print(l('')) # i want ('a', 'b') not ('a2', 'b')"
   ]
  },
  {
   "cell_type": "code",
   "execution_count": null,
   "metadata": {
    "collapsed": false
   },
   "outputs": [],
   "source": [
    "a = A()\n",
    "a_ = a\n",
    "b = B()\n",
    "l = lambda _: (a_.elem, b.elem)\n",
    "a = A()\n",
    "a.elem='a2'\n",
    "print(l(''))# i want ('a', 'b') not ('a2', 'b')"
   ]
  },
  {
   "cell_type": "markdown",
   "metadata": {},
   "source": [
    "# Class hierarchy"
   ]
  },
  {
   "cell_type": "code",
   "execution_count": null,
   "metadata": {
    "collapsed": false
   },
   "outputs": [],
   "source": [
    "import inspect\n",
    "\n",
    "class A(object):\n",
    "    pass\n",
    "\n",
    "class B(object):\n",
    "    pass\n",
    "\n",
    "class C(A, B):\n",
    "    \n",
    "    def bases(self):\n",
    "        return self.__class__.__bases__\n",
    "\n",
    "\n",
    "class D(A):\n",
    "    pass\n",
    "\n",
    "class E(D, B):\n",
    "    pass\n",
    "\n",
    "class F(C):\n",
    "    pass\n",
    "        \n"
   ]
  },
  {
   "cell_type": "code",
   "execution_count": null,
   "metadata": {
    "collapsed": false
   },
   "outputs": [],
   "source": [
    "A.__bases__"
   ]
  },
  {
   "cell_type": "code",
   "execution_count": null,
   "metadata": {
    "collapsed": false
   },
   "outputs": [],
   "source": [
    "C.__bases__"
   ]
  },
  {
   "cell_type": "code",
   "execution_count": null,
   "metadata": {
    "collapsed": false
   },
   "outputs": [],
   "source": [
    "D.__bases__"
   ]
  },
  {
   "cell_type": "code",
   "execution_count": null,
   "metadata": {
    "collapsed": false
   },
   "outputs": [],
   "source": [
    "E.__bases__"
   ]
  },
  {
   "cell_type": "code",
   "execution_count": null,
   "metadata": {
    "collapsed": false
   },
   "outputs": [],
   "source": [
    "e = E()\n",
    "e.__class__.__bases__\n"
   ]
  },
  {
   "cell_type": "code",
   "execution_count": null,
   "metadata": {
    "collapsed": false
   },
   "outputs": [],
   "source": [
    "c = C()\n",
    "c.bases()"
   ]
  },
  {
   "cell_type": "code",
   "execution_count": null,
   "metadata": {
    "collapsed": false
   },
   "outputs": [],
   "source": [
    "f = F()\n",
    "f.bases()"
   ]
  },
  {
   "cell_type": "code",
   "execution_count": null,
   "metadata": {
    "collapsed": false
   },
   "outputs": [],
   "source": [
    "inspect.getmro(f.__class__)"
   ]
  },
  {
   "cell_type": "markdown",
   "metadata": {},
   "source": [
    "# Tuple vs List"
   ]
  },
  {
   "cell_type": "code",
   "execution_count": null,
   "metadata": {
    "collapsed": true
   },
   "outputs": [],
   "source": [
    "X = 10000"
   ]
  },
  {
   "cell_type": "code",
   "execution_count": null,
   "metadata": {
    "collapsed": false
   },
   "outputs": [],
   "source": [
    "%%timeit\n",
    "list(range(X))"
   ]
  },
  {
   "cell_type": "code",
   "execution_count": null,
   "metadata": {
    "collapsed": false
   },
   "outputs": [],
   "source": [
    "%%timeit\n",
    "tuple(range(X))"
   ]
  },
  {
   "cell_type": "code",
   "execution_count": null,
   "metadata": {
    "collapsed": true
   },
   "outputs": [],
   "source": []
  },
  {
   "cell_type": "markdown",
   "metadata": {},
   "source": [
    "# For..if vs filter"
   ]
  },
  {
   "cell_type": "code",
   "execution_count": null,
   "metadata": {
    "collapsed": false
   },
   "outputs": [],
   "source": [
    "X = 100000\n",
    "def forif():  # Is Faster\n",
    "    for e in range(X):\n",
    "        if e < 1000:\n",
    "            pass\n",
    "\n",
    "def forfilter():\n",
    "    def st(elem):\n",
    "        return elem < 1000\n",
    "    for e in filter(st, range(X)):\n",
    "        pass\n"
   ]
  },
  {
   "cell_type": "code",
   "execution_count": null,
   "metadata": {
    "collapsed": false
   },
   "outputs": [],
   "source": [
    "%%timeit\n",
    "forif()"
   ]
  },
  {
   "cell_type": "code",
   "execution_count": null,
   "metadata": {
    "collapsed": false
   },
   "outputs": [],
   "source": [
    "%%timeit\n",
    "forfilter()"
   ]
  },
  {
   "cell_type": "markdown",
   "metadata": {},
   "source": [
    "# list of gen vs list appending"
   ]
  },
  {
   "cell_type": "code",
   "execution_count": null,
   "metadata": {
    "collapsed": true
   },
   "outputs": [],
   "source": [
    "X = 100000\n",
    "def gen():  # seems to be slightly faster (7.11ms vs 9.43ms)\n",
    "    def g():\n",
    "        for e in range(X):\n",
    "            yield e\n",
    "    return list(g())\n",
    "\n",
    "def list_():\n",
    "    l = list()\n",
    "    for e in range(X):\n",
    "        l.append(e)\n",
    "    return l"
   ]
  },
  {
   "cell_type": "code",
   "execution_count": null,
   "metadata": {
    "collapsed": false
   },
   "outputs": [],
   "source": [
    "%%timeit\n",
    "gen()"
   ]
  },
  {
   "cell_type": "code",
   "execution_count": null,
   "metadata": {
    "collapsed": false
   },
   "outputs": [],
   "source": [
    "%%timeit\n",
    "list_()"
   ]
  },
  {
   "cell_type": "code",
   "execution_count": null,
   "metadata": {
    "collapsed": true
   },
   "outputs": [],
   "source": []
  },
  {
   "cell_type": "markdown",
   "metadata": {},
   "source": [
    "# Set removeall"
   ]
  },
  {
   "cell_type": "code",
   "execution_count": null,
   "metadata": {
    "collapsed": true
   },
   "outputs": [],
   "source": [
    "to_remove = list(range(100))"
   ]
  },
  {
   "cell_type": "code",
   "execution_count": null,
   "metadata": {
    "collapsed": false
   },
   "outputs": [],
   "source": [
    "%%timeit\n",
    "# remove all by iteration and .remove()\n",
    "s = set(range(100000))\n",
    "for e in to_remove:\n",
    "    s.remove(e)"
   ]
  },
  {
   "cell_type": "code",
   "execution_count": null,
   "metadata": {
    "collapsed": false
   },
   "outputs": [],
   "source": [
    "%%timeit\n",
    "# remove all by iter (a list)\n",
    "s = set(range(100000))\n",
    "s = set(e for e in s if e not in to_remove)"
   ]
  },
  {
   "cell_type": "code",
   "execution_count": null,
   "metadata": {
    "collapsed": false
   },
   "outputs": [],
   "source": [
    "%%timeit\n",
    "# remove all by iter (a set)\n",
    "s = set(range(100000))\n",
    "to_remove_set = set(to_remove)\n",
    "s = set(e for e in s if e not in to_remove_set)"
   ]
  },
  {
   "cell_type": "markdown",
   "metadata": {},
   "source": [
    "# mutable & immutable classes"
   ]
  },
  {
   "cell_type": "code",
   "execution_count": null,
   "metadata": {
    "collapsed": false
   },
   "outputs": [],
   "source": [
    "from collections import namedtuple\n",
    "import abc"
   ]
  },
  {
   "cell_type": "code",
   "execution_count": null,
   "metadata": {
    "collapsed": false
   },
   "outputs": [],
   "source": [
    "class Base(object, metaclass=abc.ABCMeta):\n",
    "    \n",
    "    __slots__ = ()\n",
    "    \n",
    "    def __new__(cls, *args, **kwargs):\n",
    "        print(\"new Base\")\n",
    "        return super().__new__(cls)\n",
    "    \n",
    "    def __init__(self, a, b, c=None):\n",
    "        print(\"init Base\")\n",
    "    \n",
    "    @property\n",
    "    @abc.abstractmethod\n",
    "    def a(self):\n",
    "        print(\"Base a\")\n",
    "        raise NotImplementedError()\n",
    "    \n",
    "    @property\n",
    "    @abc.abstractmethod\n",
    "    def b(self):\n",
    "        print(\"Base b\")\n",
    "        raise NotImplementedError()\n",
    "    \n",
    "    @property\n",
    "    @abc.abstractmethod\n",
    "    def c(self):\n",
    "        print(\"Base c\")\n",
    "        raise NotImplementedError()\n",
    "        \n",
    "    def pr_a(self):\n",
    "        print(\"my a:\", self.a)\n",
    "\n",
    "NT = namedtuple(\"NT\", [\"a\", \"b\"])\n",
    "class Imm(NT, Base):\n",
    "    __slots__ = ()\n",
    "    \n",
    "    def __new__(cls, *args, c=\"ImmC\", **kwargs):\n",
    "        print(\"new Imm\")\n",
    "        return super().__new__(cls, *args, **kwargs)\n",
    "    \n",
    "    def __init__(self, a, b, c=None):\n",
    "        print(\"init Imm\")\n",
    "        super().__init__(a, b, c)"
   ]
  },
  {
   "cell_type": "code",
   "execution_count": null,
   "metadata": {
    "collapsed": true
   },
   "outputs": [],
   "source": [
    "class Mut(Base):\n",
    "    __slots__ = ('_a', '_b', '_c')\n",
    "    \n",
    "    def __new__(cls, *args, **kwargs):\n",
    "        print(\"new Mut\")\n",
    "        return super().__new__(cls, *args, **kwargs)\n",
    "    \n",
    "    def __init__(self, a, b, c=None):\n",
    "        print(\"init Mut\")\n",
    "        self._a = a\n",
    "        self._b = b\n",
    "        self._c = c\n",
    "        super().__init__(a, b, c)\n",
    "        \n",
    "    @property\n",
    "    def a(self):\n",
    "        print(\"Mut a\")\n",
    "        return self._a\n",
    "    \n",
    "    @a.setter\n",
    "    def a(self, newa):\n",
    "        print(\"Mut a setter\")\n",
    "        self._a = newa\n",
    "    \n",
    "    @property\n",
    "    def b(self):\n",
    "        print(\"Mut b\")\n",
    "        return self._b\n",
    "    \n",
    "    @property\n",
    "    def c(self):\n",
    "        print(\"Mut c\")\n",
    "        return self._c"
   ]
  },
  {
   "cell_type": "code",
   "execution_count": null,
   "metadata": {
    "collapsed": false
   },
   "outputs": [],
   "source": [
    "I = Imm(a=1, b=2)\n",
    "M = Mut(4, 5)\n",
    "nt = NT(6, 7)"
   ]
  },
  {
   "cell_type": "code",
   "execution_count": null,
   "metadata": {
    "collapsed": false
   },
   "outputs": [],
   "source": [
    "print(*I)"
   ]
  },
  {
   "cell_type": "code",
   "execution_count": null,
   "metadata": {
    "collapsed": false
   },
   "outputs": [],
   "source": [
    "I.a"
   ]
  },
  {
   "cell_type": "code",
   "execution_count": null,
   "metadata": {
    "collapsed": false
   },
   "outputs": [],
   "source": [
    "nt.a = 5"
   ]
  },
  {
   "cell_type": "code",
   "execution_count": null,
   "metadata": {
    "collapsed": false
   },
   "outputs": [],
   "source": [
    "I.a = 4"
   ]
  },
  {
   "cell_type": "code",
   "execution_count": null,
   "metadata": {
    "collapsed": false
   },
   "outputs": [],
   "source": [
    "M.a = 3"
   ]
  },
  {
   "cell_type": "code",
   "execution_count": null,
   "metadata": {
    "collapsed": false
   },
   "outputs": [],
   "source": [
    "M.a"
   ]
  },
  {
   "cell_type": "code",
   "execution_count": null,
   "metadata": {
    "collapsed": false
   },
   "outputs": [],
   "source": [
    "I.pr_a()"
   ]
  },
  {
   "cell_type": "code",
   "execution_count": null,
   "metadata": {
    "collapsed": false
   },
   "outputs": [],
   "source": [
    "M.pr_a()"
   ]
  },
  {
   "cell_type": "markdown",
   "metadata": {},
   "source": [
    "# Determinization Tests"
   ]
  },
  {
   "cell_type": "code",
   "execution_count": null,
   "metadata": {
    "collapsed": false,
    "scrolled": true
   },
   "outputs": [],
   "source": [
    "from gym_tichu.envs.internals import Deck, CardSet, InitialState, GeneralCombination, all_general_combinations_gen\n",
    "from gym_agents.mcts import determinization_with_prior_weights"
   ]
  },
  {
   "cell_type": "code",
   "execution_count": null,
   "metadata": {
    "collapsed": false
   },
   "outputs": [],
   "source": [
    "deck = Deck(full=True)\n",
    "piles = deck.split(random_=True)\n",
    "big_pile = CardSet(piles[1] + piles[2] + piles[3])\n",
    "print(str(big_pile))"
   ]
  },
  {
   "cell_type": "code",
   "execution_count": null,
   "metadata": {
    "collapsed": true
   },
   "outputs": [],
   "source": [
    "posscombs = list(big_pile.possible_combinations())\n"
   ]
  },
  {
   "cell_type": "code",
   "execution_count": null,
   "metadata": {
    "collapsed": false
   },
   "outputs": [],
   "source": [
    "state = InitialState().announce_grand_tichus([]).announce_tichus([]).trade_cards(trades=list())"
   ]
  },
  {
   "cell_type": "code",
   "execution_count": null,
   "metadata": {
    "collapsed": false
   },
   "outputs": [],
   "source": [
    "def make_random_weights_dict():  #  Dict[GeneralCombination, Dict[Len, float]]\n",
    "    d = dict()\n",
    "    for gcomb in all_general_combinations_gen():\n",
    "        weights = [random.random() for _ in range(1, 15)]\n",
    "        s = sum(weights)\n",
    "        weights = [w / s for w in weights]\n",
    "        d[gcomb] = {l+1: w for l, w in enumerate(weights)}\n",
    "    return d\n",
    "\n",
    "weights_dict = make_random_weights_dict()"
   ]
  },
  {
   "cell_type": "code",
   "execution_count": null,
   "metadata": {
    "collapsed": true
   },
   "outputs": [],
   "source": [
    "def make_len_to_gcomb_to_proba_dict(weights_dict):  #  Dict[Len, Dict[GeneralCombination, float]]\n",
    "    d = {l: {gcomb: 0.0 for gcomb in all_general_combinations_gen()} for l in range(1, 15)}\n",
    "    for gcomb, len_proba in weights_dict.items():\n",
    "        for l, proba in len_proba.items():\n",
    "            d[l][gcomb] = proba\n",
    "    return d\n",
    "len_to_gcomb_to_proba_dict = make_len_to_gcomb_to_proba_dict(weights_dict)"
   ]
  },
  {
   "cell_type": "code",
   "execution_count": null,
   "metadata": {
    "collapsed": false
   },
   "outputs": [],
   "source": [
    "cards = CardSet(piles[1] + piles[2])\n",
    "goal_lengths = (11, 8, 9)\n",
    "assert len(cards) == sum(goal_lengths)\n",
    "handcards = {1:list(), 2:list(), 3:list()}\n",
    "posscombs = list(cards.possible_combinations())\n",
    "possgcombs = [GeneralCombination.from_combination(comb) for comb in posscombs]"
   ]
  },
  {
   "cell_type": "code",
   "execution_count": null,
   "metadata": {
    "collapsed": false
   },
   "outputs": [],
   "source": [
    "def combweights_for_length(length):\n",
    "    return {comb: len_to_gcomb_to_proba_dict[length][gcomb] \n",
    "                    for comb, gcomb in zip(posscombs, possgcombs)}\n",
    "\n",
    "combweights_left = combweights_for_length(goal_lengths[0])\n",
    "combweights_tm = combweights_for_length(goal_lengths[1])\n",
    "combweights_right = combweights_for_length(goal_lengths[2])"
   ]
  },
  {
   "cell_type": "code",
   "execution_count": null,
   "metadata": {
    "collapsed": false
   },
   "outputs": [],
   "source": [
    "sum([0.07194244604316546,\n",
    "0.12765273311897107,\n",
    "0.10952460944061818,\n",
    "0.08176809416478838,\n",
    "0.059881227317716924,\n",
    "0.05004688232536334,\n",
    "0.04884117403123992,\n",
    "0.0480146224631287,\n",
    "0.03621113618755684,\n",
    "0.03073969936195523,\n",
    "0.02901127318275486,\n",
    "0.02829725751049561,\n",
    "0.02800301431801055,\n",
    "0.027585375709839564])"
   ]
  },
  {
   "cell_type": "code",
   "execution_count": null,
   "metadata": {
    "collapsed": true
   },
   "outputs": [],
   "source": []
  },
  {
   "cell_type": "code",
   "execution_count": null,
   "metadata": {
    "collapsed": false
   },
   "outputs": [],
   "source": [
    "det = determinization_with_prior_weights(state, 0, make_random_weights_dict())\n",
    "print(det)"
   ]
  },
  {
   "cell_type": "code",
   "execution_count": null,
   "metadata": {
    "collapsed": true
   },
   "outputs": [],
   "source": [
    "raise StopIteration(\"stop\")"
   ]
  },
  {
   "cell_type": "markdown",
   "metadata": {},
   "source": [
    "# Some Timing and otherexperiments"
   ]
  },
  {
   "cell_type": "code",
   "execution_count": null,
   "metadata": {
    "collapsed": false
   },
   "outputs": [],
   "source": [
    "def outer():\n",
    "    print(\"outer\")\n",
    "\n",
    "class A(object):\n",
    "    \n",
    "    def __init__(self):\n",
    "        self.myouter = outer\n",
    "    \n",
    "    def a():\n",
    "        print(\"A.a\")\n",
    "    "
   ]
  },
  {
   "cell_type": "code",
   "execution_count": null,
   "metadata": {
    "collapsed": false
   },
   "outputs": [],
   "source": [
    "a = A()\n",
    "a.myouter()"
   ]
  },
  {
   "cell_type": "code",
   "execution_count": null,
   "metadata": {
    "collapsed": true
   },
   "outputs": [],
   "source": []
  },
  {
   "cell_type": "code",
   "execution_count": null,
   "metadata": {
    "collapsed": true
   },
   "outputs": [],
   "source": [
    "s = set(range(10))\n",
    "l = list(s)\n",
    "n = 1000"
   ]
  },
  {
   "cell_type": "code",
   "execution_count": null,
   "metadata": {
    "collapsed": false
   },
   "outputs": [],
   "source": [
    "%%timeit\n",
    "for _ in range(n):\n",
    "    gen = iter(s)\n",
    "    for _ in range(random.randrange(0, len(s))):\n",
    "        next(gen)\n",
    "    next(gen)"
   ]
  },
  {
   "cell_type": "code",
   "execution_count": null,
   "metadata": {
    "collapsed": false
   },
   "outputs": [],
   "source": [
    "%%timeit\n",
    "for _ in range(n):\n",
    "    next(iter(s))"
   ]
  },
  {
   "cell_type": "code",
   "execution_count": null,
   "metadata": {
    "collapsed": false
   },
   "outputs": [],
   "source": [
    "%%timeit\n",
    "for _ in range(n):\n",
    "    next(itertools.islice(s, random.randrange(0, len(s)), None))"
   ]
  },
  {
   "cell_type": "code",
   "execution_count": null,
   "metadata": {
    "collapsed": false
   },
   "outputs": [],
   "source": [
    "%%timeit\n",
    "for _ in range(n):\n",
    "    random.choice(list(s))"
   ]
  },
  {
   "cell_type": "code",
   "execution_count": null,
   "metadata": {
    "collapsed": false
   },
   "outputs": [],
   "source": [
    "%%timeit\n",
    "for _ in range(n):\n",
    "    random.choice(l)"
   ]
  },
  {
   "cell_type": "code",
   "execution_count": null,
   "metadata": {
    "collapsed": true
   },
   "outputs": [],
   "source": [
    "s = set(range(1000))\n",
    "l = list(s)"
   ]
  },
  {
   "cell_type": "code",
   "execution_count": null,
   "metadata": {
    "collapsed": false
   },
   "outputs": [],
   "source": [
    "%%timeit\n",
    "for _ in range(n):\n",
    "    s = set(range(1000))\n",
    "    set(l)"
   ]
  },
  {
   "cell_type": "code",
   "execution_count": null,
   "metadata": {
    "collapsed": false
   },
   "outputs": [],
   "source": [
    "%%timeit\n",
    "for _ in range(n):\n",
    "    l = list(range(1000))\n",
    "    list(s)"
   ]
  },
  {
   "cell_type": "code",
   "execution_count": null,
   "metadata": {
    "collapsed": true
   },
   "outputs": [],
   "source": []
  },
  {
   "cell_type": "code",
   "execution_count": null,
   "metadata": {
    "collapsed": true
   },
   "outputs": [],
   "source": [
    "import gym\n",
    "import importlib\n",
    "import gym_tichu.envs.internals as new\n",
    "from gym_tichu.envs.internals import CardSet\n",
    "import game.tichu.cards as old\n",
    "from game.tichu.cards import ImmutableCards\n",
    "import random\n",
    "import itertools"
   ]
  },
  {
   "cell_type": "code",
   "execution_count": null,
   "metadata": {
    "collapsed": false
   },
   "outputs": [],
   "source": [
    "\n",
    "def old_card_from_new(newc):\n",
    "    n = newc.name\n",
    "    oldc = next(c for c in old.Card if c.name == n)\n",
    "    return oldc\n",
    "\n",
    "def create_new_piles(phoenix=False):\n",
    "    deck_new = new.Deck(full=True)\n",
    "    _new = deck_new.split(random_=True)[0][:10]\n",
    "    _old = [old_card_from_new(c) for c in _new]\n",
    "    if phoenix and new.Card.PHOENIX not in _new:\n",
    "        _new.append(new.Card.PHOENIX)\n",
    "    if phoenix and old.Card.PHOENIX not in _old:\n",
    "        _old.append(old.Card.PHOENIX)\n",
    "    return sorted(_new), sorted(_old)\n"
   ]
  },
  {
   "cell_type": "markdown",
   "metadata": {},
   "source": [
    "# Comparison Old vs New Possible Combinations of cards"
   ]
  },
  {
   "cell_type": "code",
   "execution_count": null,
   "metadata": {
    "collapsed": true
   },
   "outputs": [],
   "source": [
    "def filter_duplicates(combs):\n",
    "    d = dict()\n",
    "    filtered = list()\n",
    "    for comb in combs:\n",
    "        try:\n",
    "            t = (comb.__class__, len(comb), comb.height, tuple([c.value[0] for c in comb]), comb.phoenix_as)\n",
    "        except AttributeError:\n",
    "            t = (comb.__class__, len(comb), tuple([c.value[0] for c in comb]), comb.height)\n",
    "        if t in d:\n",
    "            filtered.append(d[t])\n",
    "        d[t] = comb\n",
    "    return list(d.values()), filtered\n",
    "\n",
    "def compare_length():\n",
    "    #print(\"compare len:\")\n",
    "    #print(\"create new piles...\")\n",
    "    pn, po = create_new_piles(phoenix=True)\n",
    "    #print(\"pile: \", pn)\n",
    "    #print(\"create cards...\")\n",
    "    old_cards = ImmutableCards(po)\n",
    "    new_cards = CardSet(pn)\n",
    "    #print(\"create combiantions...\")\n",
    "    combs_old, filtered_old = filter_duplicates(list(old_cards.all_combinations()))\n",
    "    combs_new, filtered_new = filter_duplicates(list(new_cards.possible_combinations()))\n",
    "    #print(\"...done\")\n",
    "    return len(combs_old), len(combs_new), old_cards, new_cards, filtered_old, filtered_new\n",
    "\n",
    "\n",
    "    "
   ]
  },
  {
   "cell_type": "code",
   "execution_count": null,
   "metadata": {
    "collapsed": false,
    "scrolled": false
   },
   "outputs": [],
   "source": [
    "lo = 0\n",
    "ln = 0\n",
    "tries = 1\n",
    "while lo == ln:\n",
    "    lo, ln, old_cards, new_cards, filtered_old, filtered_new = compare_length()\n",
    "    #print(\"filtered_old:\", '\\n'.join(map(str, filtered_old)))\n",
    "    #print(\"\\nfiltered_new:\", '\\n'.join(map(str, filtered_new)))\n",
    "    tries += 1\n",
    "\n",
    "print('tries:', tries)\n",
    "print(lo, ln)\n",
    "print()\n",
    "print(\"____________________\")\n",
    "print(old_cards)\n",
    "print(sorted(new_cards))\n",
    "print(\"-----------Old: ----------\")\n",
    "for combo in old_cards.all_combinations():\n",
    "    print(combo)\n",
    "print()\n",
    "print(\"-----------New: ----------\")\n",
    "for combn in new_cards.possible_combinations():\n",
    "    print(combn) "
   ]
  },
  {
   "cell_type": "code",
   "execution_count": null,
   "metadata": {
    "collapsed": true
   },
   "outputs": [],
   "source": []
  },
  {
   "cell_type": "code",
   "execution_count": null,
   "metadata": {
    "collapsed": true
   },
   "outputs": [],
   "source": [
    "l = list(range(14))"
   ]
  },
  {
   "cell_type": "code",
   "execution_count": null,
   "metadata": {
    "collapsed": false
   },
   "outputs": [],
   "source": [
    "%%timeit\n",
    "[str(i) for i in range(14)]"
   ]
  },
  {
   "cell_type": "code",
   "execution_count": null,
   "metadata": {
    "collapsed": false
   },
   "outputs": [],
   "source": [
    "%%timeit\n",
    "list(map(str, range(14)))"
   ]
  },
  {
   "cell_type": "code",
   "execution_count": null,
   "metadata": {
    "collapsed": true
   },
   "outputs": [],
   "source": []
  },
  {
   "cell_type": "code",
   "execution_count": null,
   "metadata": {
    "collapsed": true
   },
   "outputs": [],
   "source": []
  }
 ],
 "metadata": {
  "kernelspec": {
   "display_name": "Python 3",
   "language": "python",
   "name": "python3"
  },
  "language_info": {
   "codemirror_mode": {
    "name": "ipython",
    "version": 3
   },
   "file_extension": ".py",
   "mimetype": "text/x-python",
   "name": "python",
   "nbconvert_exporter": "python",
   "pygments_lexer": "ipython3",
   "version": "3.6.1"
  }
 },
 "nbformat": 4,
 "nbformat_minor": 0
}
